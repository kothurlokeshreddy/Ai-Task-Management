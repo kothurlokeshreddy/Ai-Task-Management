{
 "cells": [
  {
   "cell_type": "markdown",
   "id": "59d418d8",
   "metadata": {},
   "source": [
    "## Importing Libraries"
   ]
  },
  {
   "cell_type": "code",
   "execution_count": 1,
   "id": "90d3b926",
   "metadata": {},
   "outputs": [],
   "source": [
    "import pandas as pd\n",
    "from sklearn.model_selection import train_test_split\n",
    "from sklearn.preprocessing import LabelEncoder"
   ]
  },
  {
   "cell_type": "markdown",
   "id": "d4c15e8d",
   "metadata": {},
   "source": [
    "## Loading Dataset"
   ]
  },
  {
   "cell_type": "code",
   "execution_count": 2,
   "id": "2f5ec1a6",
   "metadata": {},
   "outputs": [],
   "source": [
    "df = pd.read_csv(\"../Datasets/New/balanced_priority_task_dataset_missing_values.csv\")"
   ]
  },
  {
   "cell_type": "code",
   "execution_count": 3,
   "id": "7472eefe",
   "metadata": {},
   "outputs": [
    {
     "data": {
      "text/html": [
       "<div>\n",
       "<style scoped>\n",
       "    .dataframe tbody tr th:only-of-type {\n",
       "        vertical-align: middle;\n",
       "    }\n",
       "\n",
       "    .dataframe tbody tr th {\n",
       "        vertical-align: top;\n",
       "    }\n",
       "\n",
       "    .dataframe thead th {\n",
       "        text-align: right;\n",
       "    }\n",
       "</style>\n",
       "<table border=\"1\" class=\"dataframe\">\n",
       "  <thead>\n",
       "    <tr style=\"text-align: right;\">\n",
       "      <th></th>\n",
       "      <th>task_id</th>\n",
       "      <th>task_description</th>\n",
       "      <th>priority</th>\n",
       "      <th>deadline</th>\n",
       "      <th>assigned_to</th>\n",
       "      <th>status</th>\n",
       "      <th>created_at</th>\n",
       "      <th>estimated_hours</th>\n",
       "      <th>actual_hours</th>\n",
       "    </tr>\n",
       "  </thead>\n",
       "  <tbody>\n",
       "    <tr>\n",
       "      <th>0</th>\n",
       "      <td>TASK_89951</td>\n",
       "      <td>Schedule meeting with stakeholders next week.</td>\n",
       "      <td>Medium</td>\n",
       "      <td>2025-08-01</td>\n",
       "      <td>user_37</td>\n",
       "      <td>In Progress</td>\n",
       "      <td>2025-05-26</td>\n",
       "      <td>7.97</td>\n",
       "      <td>6.90</td>\n",
       "    </tr>\n",
       "    <tr>\n",
       "      <th>1</th>\n",
       "      <td>TASK_83109</td>\n",
       "      <td>Task needs completion before end of the day.</td>\n",
       "      <td>High</td>\n",
       "      <td>2025-07-11</td>\n",
       "      <td>user_67</td>\n",
       "      <td>To Do</td>\n",
       "      <td>2025-06-13</td>\n",
       "      <td>12.73</td>\n",
       "      <td>14.89</td>\n",
       "    </tr>\n",
       "    <tr>\n",
       "      <th>2</th>\n",
       "      <td>TASK_49771</td>\n",
       "      <td>Critical bug in production impacting all users.</td>\n",
       "      <td>Critical</td>\n",
       "      <td>2025-07-01</td>\n",
       "      <td>user_76</td>\n",
       "      <td>Completed</td>\n",
       "      <td>2025-06-08</td>\n",
       "      <td>14.14</td>\n",
       "      <td>12.29</td>\n",
       "    </tr>\n",
       "    <tr>\n",
       "      <th>3</th>\n",
       "      <td>TASK_69966</td>\n",
       "      <td>Prepare for upcoming product launch this week.</td>\n",
       "      <td>High</td>\n",
       "      <td>2025-08-07</td>\n",
       "      <td>user_52</td>\n",
       "      <td>To Do</td>\n",
       "      <td>2025-05-24</td>\n",
       "      <td>13.88</td>\n",
       "      <td>17.28</td>\n",
       "    </tr>\n",
       "    <tr>\n",
       "      <th>4</th>\n",
       "      <td>TASK_24871</td>\n",
       "      <td>Client report must be submitted by evening.</td>\n",
       "      <td>High</td>\n",
       "      <td>2025-06-29</td>\n",
       "      <td>user_73</td>\n",
       "      <td>To Do</td>\n",
       "      <td>2025-06-05</td>\n",
       "      <td>12.74</td>\n",
       "      <td>14.07</td>\n",
       "    </tr>\n",
       "  </tbody>\n",
       "</table>\n",
       "</div>"
      ],
      "text/plain": [
       "      task_id                                 task_description  priority  \\\n",
       "0  TASK_89951    Schedule meeting with stakeholders next week.    Medium   \n",
       "1  TASK_83109     Task needs completion before end of the day.      High   \n",
       "2  TASK_49771  Critical bug in production impacting all users.  Critical   \n",
       "3  TASK_69966   Prepare for upcoming product launch this week.      High   \n",
       "4  TASK_24871      Client report must be submitted by evening.      High   \n",
       "\n",
       "     deadline assigned_to       status  created_at  estimated_hours  \\\n",
       "0  2025-08-01     user_37  In Progress  2025-05-26             7.97   \n",
       "1  2025-07-11     user_67        To Do  2025-06-13            12.73   \n",
       "2  2025-07-01     user_76    Completed  2025-06-08            14.14   \n",
       "3  2025-08-07     user_52        To Do  2025-05-24            13.88   \n",
       "4  2025-06-29     user_73        To Do  2025-06-05            12.74   \n",
       "\n",
       "   actual_hours  \n",
       "0          6.90  \n",
       "1         14.89  \n",
       "2         12.29  \n",
       "3         17.28  \n",
       "4         14.07  "
      ]
     },
     "execution_count": 3,
     "metadata": {},
     "output_type": "execute_result"
    }
   ],
   "source": [
    "df.head(5)"
   ]
  },
  {
   "cell_type": "code",
   "execution_count": 4,
   "id": "1ed8b866",
   "metadata": {},
   "outputs": [
    {
     "data": {
      "text/plain": [
       "(10000, 9)"
      ]
     },
     "execution_count": 4,
     "metadata": {},
     "output_type": "execute_result"
    }
   ],
   "source": [
    "df.shape"
   ]
  },
  {
   "cell_type": "markdown",
   "id": "03c36ab7",
   "metadata": {},
   "source": [
    "## check for Missing Values"
   ]
  },
  {
   "cell_type": "code",
   "execution_count": 5,
   "id": "8547f93b",
   "metadata": {},
   "outputs": [
    {
     "data": {
      "text/plain": [
       "task_id               0\n",
       "task_description    500\n",
       "priority            500\n",
       "deadline              0\n",
       "assigned_to         500\n",
       "status              500\n",
       "created_at            0\n",
       "estimated_hours       0\n",
       "actual_hours          0\n",
       "dtype: int64"
      ]
     },
     "execution_count": 5,
     "metadata": {},
     "output_type": "execute_result"
    }
   ],
   "source": [
    "df.isnull().sum()"
   ]
  },
  {
   "cell_type": "code",
   "execution_count": 6,
   "id": "061d9517",
   "metadata": {},
   "outputs": [
    {
     "data": {
      "text/plain": [
       "task_id             0\n",
       "task_description    0\n",
       "priority            0\n",
       "deadline            0\n",
       "assigned_to         0\n",
       "status              0\n",
       "created_at          0\n",
       "estimated_hours     0\n",
       "actual_hours        0\n",
       "dtype: int64"
      ]
     },
     "execution_count": 6,
     "metadata": {},
     "output_type": "execute_result"
    }
   ],
   "source": [
    "df.drop_duplicates(inplace=True)\n",
    "df['task_description'].fillna(\"No description provided\", inplace=True)\n",
    "df['priority'].fillna(df['priority'].mode()[0], inplace=True)\n",
    "df['assigned_to'].fillna(\"unassigned\", inplace=True)\n",
    "df['status'].fillna(df['status'].mode()[0], inplace=True)\n",
    "\n",
    "df.isnull().sum()"
   ]
  },
  {
   "cell_type": "markdown",
   "id": "ef450146",
   "metadata": {},
   "source": [
    "## Target Variable : Priority\n",
    "\n",
    "#### We'll classify tasks based on a target variable. Assuming priority is the target (Low, Medium, High)"
   ]
  },
  {
   "cell_type": "code",
   "execution_count": 7,
   "id": "4006b44e",
   "metadata": {},
   "outputs": [],
   "source": [
    "label_encoder = LabelEncoder()\n",
    "df['priority_encoded'] = label_encoder.fit_transform(df['priority'])"
   ]
  },
  {
   "cell_type": "code",
   "execution_count": 8,
   "id": "1d45f63b",
   "metadata": {},
   "outputs": [
    {
     "data": {
      "text/html": [
       "<div>\n",
       "<style scoped>\n",
       "    .dataframe tbody tr th:only-of-type {\n",
       "        vertical-align: middle;\n",
       "    }\n",
       "\n",
       "    .dataframe tbody tr th {\n",
       "        vertical-align: top;\n",
       "    }\n",
       "\n",
       "    .dataframe thead th {\n",
       "        text-align: right;\n",
       "    }\n",
       "</style>\n",
       "<table border=\"1\" class=\"dataframe\">\n",
       "  <thead>\n",
       "    <tr style=\"text-align: right;\">\n",
       "      <th></th>\n",
       "      <th>task_id</th>\n",
       "      <th>task_description</th>\n",
       "      <th>priority</th>\n",
       "      <th>deadline</th>\n",
       "      <th>assigned_to</th>\n",
       "      <th>status</th>\n",
       "      <th>created_at</th>\n",
       "      <th>estimated_hours</th>\n",
       "      <th>actual_hours</th>\n",
       "      <th>priority_encoded</th>\n",
       "    </tr>\n",
       "  </thead>\n",
       "  <tbody>\n",
       "    <tr>\n",
       "      <th>0</th>\n",
       "      <td>TASK_89951</td>\n",
       "      <td>Schedule meeting with stakeholders next week.</td>\n",
       "      <td>Medium</td>\n",
       "      <td>2025-08-01</td>\n",
       "      <td>user_37</td>\n",
       "      <td>In Progress</td>\n",
       "      <td>2025-05-26</td>\n",
       "      <td>7.97</td>\n",
       "      <td>6.90</td>\n",
       "      <td>3</td>\n",
       "    </tr>\n",
       "    <tr>\n",
       "      <th>1</th>\n",
       "      <td>TASK_83109</td>\n",
       "      <td>Task needs completion before end of the day.</td>\n",
       "      <td>High</td>\n",
       "      <td>2025-07-11</td>\n",
       "      <td>user_67</td>\n",
       "      <td>To Do</td>\n",
       "      <td>2025-06-13</td>\n",
       "      <td>12.73</td>\n",
       "      <td>14.89</td>\n",
       "      <td>1</td>\n",
       "    </tr>\n",
       "    <tr>\n",
       "      <th>2</th>\n",
       "      <td>TASK_49771</td>\n",
       "      <td>Critical bug in production impacting all users.</td>\n",
       "      <td>Critical</td>\n",
       "      <td>2025-07-01</td>\n",
       "      <td>user_76</td>\n",
       "      <td>Completed</td>\n",
       "      <td>2025-06-08</td>\n",
       "      <td>14.14</td>\n",
       "      <td>12.29</td>\n",
       "      <td>0</td>\n",
       "    </tr>\n",
       "    <tr>\n",
       "      <th>3</th>\n",
       "      <td>TASK_69966</td>\n",
       "      <td>Prepare for upcoming product launch this week.</td>\n",
       "      <td>High</td>\n",
       "      <td>2025-08-07</td>\n",
       "      <td>user_52</td>\n",
       "      <td>To Do</td>\n",
       "      <td>2025-05-24</td>\n",
       "      <td>13.88</td>\n",
       "      <td>17.28</td>\n",
       "      <td>1</td>\n",
       "    </tr>\n",
       "    <tr>\n",
       "      <th>4</th>\n",
       "      <td>TASK_24871</td>\n",
       "      <td>Client report must be submitted by evening.</td>\n",
       "      <td>High</td>\n",
       "      <td>2025-06-29</td>\n",
       "      <td>user_73</td>\n",
       "      <td>To Do</td>\n",
       "      <td>2025-06-05</td>\n",
       "      <td>12.74</td>\n",
       "      <td>14.07</td>\n",
       "      <td>1</td>\n",
       "    </tr>\n",
       "  </tbody>\n",
       "</table>\n",
       "</div>"
      ],
      "text/plain": [
       "      task_id                                 task_description  priority  \\\n",
       "0  TASK_89951    Schedule meeting with stakeholders next week.    Medium   \n",
       "1  TASK_83109     Task needs completion before end of the day.      High   \n",
       "2  TASK_49771  Critical bug in production impacting all users.  Critical   \n",
       "3  TASK_69966   Prepare for upcoming product launch this week.      High   \n",
       "4  TASK_24871      Client report must be submitted by evening.      High   \n",
       "\n",
       "     deadline assigned_to       status  created_at  estimated_hours  \\\n",
       "0  2025-08-01     user_37  In Progress  2025-05-26             7.97   \n",
       "1  2025-07-11     user_67        To Do  2025-06-13            12.73   \n",
       "2  2025-07-01     user_76    Completed  2025-06-08            14.14   \n",
       "3  2025-08-07     user_52        To Do  2025-05-24            13.88   \n",
       "4  2025-06-29     user_73        To Do  2025-06-05            12.74   \n",
       "\n",
       "   actual_hours  priority_encoded  \n",
       "0          6.90                 3  \n",
       "1         14.89                 1  \n",
       "2         12.29                 0  \n",
       "3         17.28                 1  \n",
       "4         14.07                 1  "
      ]
     },
     "execution_count": 8,
     "metadata": {},
     "output_type": "execute_result"
    }
   ],
   "source": [
    "df.head()"
   ]
  },
  {
   "cell_type": "code",
   "execution_count": 9,
   "id": "cd2538da",
   "metadata": {},
   "outputs": [
    {
     "name": "stdout",
     "output_type": "stream",
     "text": [
      "['Critical' 'High' 'Low' 'Medium']\n"
     ]
    }
   ],
   "source": [
    "# View encoded classes\n",
    "print(label_encoder.classes_)"
   ]
  },
  {
   "cell_type": "markdown",
   "id": "7b0b2ccc",
   "metadata": {},
   "source": [
    "## Feature Extraction using TF-IDF"
   ]
  },
  {
   "cell_type": "code",
   "execution_count": 10,
   "id": "208f50a0",
   "metadata": {},
   "outputs": [],
   "source": [
    "from sklearn.feature_extraction.text import TfidfVectorizer\n",
    "\n",
    "# Convert text column to TF-IDF\n",
    "tfidf = TfidfVectorizer(max_features=3000)\n",
    "X_tfidf = tfidf.fit_transform(df['task_description'])\n",
    "\n",
    "# Features (X) and target (y)\n",
    "X = X_tfidf\n",
    "y = df['priority_encoded']"
   ]
  },
  {
   "cell_type": "code",
   "execution_count": 11,
   "id": "fdc07c2d",
   "metadata": {},
   "outputs": [
    {
     "data": {
      "text/plain": [
       "<10000x112 sparse matrix of type '<class 'numpy.float64'>'\n",
       "\twith 61907 stored elements in Compressed Sparse Row format>"
      ]
     },
     "execution_count": 11,
     "metadata": {},
     "output_type": "execute_result"
    }
   ],
   "source": [
    "X"
   ]
  },
  {
   "cell_type": "code",
   "execution_count": 12,
   "id": "48efb220",
   "metadata": {},
   "outputs": [
    {
     "data": {
      "text/plain": [
       "0       3\n",
       "1       1\n",
       "2       0\n",
       "3       1\n",
       "4       1\n",
       "       ..\n",
       "9995    3\n",
       "9996    3\n",
       "9997    3\n",
       "9998    0\n",
       "9999    3\n",
       "Name: priority_encoded, Length: 10000, dtype: int32"
      ]
     },
     "execution_count": 12,
     "metadata": {},
     "output_type": "execute_result"
    }
   ],
   "source": [
    "y"
   ]
  },
  {
   "cell_type": "markdown",
   "id": "9283110c",
   "metadata": {},
   "source": [
    "## Train Test Split"
   ]
  },
  {
   "cell_type": "code",
   "execution_count": 13,
   "id": "c3c4b768",
   "metadata": {},
   "outputs": [],
   "source": [
    "X_train, X_test, y_train, y_test = train_test_split(X, y, test_size=0.2, random_state=42)"
   ]
  },
  {
   "cell_type": "code",
   "execution_count": 14,
   "id": "4f1515e7",
   "metadata": {},
   "outputs": [
    {
     "data": {
      "text/plain": [
       "<8000x112 sparse matrix of type '<class 'numpy.float64'>'\n",
       "\twith 49564 stored elements in Compressed Sparse Row format>"
      ]
     },
     "execution_count": 14,
     "metadata": {},
     "output_type": "execute_result"
    }
   ],
   "source": [
    "X_train"
   ]
  },
  {
   "cell_type": "code",
   "execution_count": 15,
   "id": "98726ad8",
   "metadata": {},
   "outputs": [
    {
     "data": {
      "text/plain": [
       "<2000x112 sparse matrix of type '<class 'numpy.float64'>'\n",
       "\twith 12343 stored elements in Compressed Sparse Row format>"
      ]
     },
     "execution_count": 15,
     "metadata": {},
     "output_type": "execute_result"
    }
   ],
   "source": [
    "X_test"
   ]
  },
  {
   "cell_type": "code",
   "execution_count": 16,
   "id": "5bdb6d8d",
   "metadata": {},
   "outputs": [
    {
     "data": {
      "text/plain": [
       "9254    1\n",
       "1561    1\n",
       "1670    3\n",
       "6087    1\n",
       "6669    3\n",
       "       ..\n",
       "5734    3\n",
       "5191    3\n",
       "5390    3\n",
       "860     2\n",
       "7270    0\n",
       "Name: priority_encoded, Length: 8000, dtype: int32"
      ]
     },
     "execution_count": 16,
     "metadata": {},
     "output_type": "execute_result"
    }
   ],
   "source": [
    "y_train"
   ]
  },
  {
   "cell_type": "code",
   "execution_count": 17,
   "id": "b8eb6967",
   "metadata": {},
   "outputs": [
    {
     "data": {
      "text/plain": [
       "6252    3\n",
       "4684    2\n",
       "1731    1\n",
       "4742    3\n",
       "4521    0\n",
       "       ..\n",
       "6412    1\n",
       "8285    2\n",
       "7853    0\n",
       "1095    1\n",
       "6929    1\n",
       "Name: priority_encoded, Length: 2000, dtype: int32"
      ]
     },
     "execution_count": 17,
     "metadata": {},
     "output_type": "execute_result"
    }
   ],
   "source": [
    "y_test"
   ]
  },
  {
   "cell_type": "markdown",
   "id": "3b960448",
   "metadata": {},
   "source": [
    "## Naive Bayes Classification"
   ]
  },
  {
   "cell_type": "code",
   "execution_count": 18,
   "id": "6de0dbdc",
   "metadata": {},
   "outputs": [
    {
     "name": "stdout",
     "output_type": "stream",
     "text": [
      "Naive Bayes Results:\n",
      "\n",
      "[[478  19  62  14]\n",
      " [  0 468  18   0]\n",
      " [  0   0 475   0]\n",
      " [  0   0  23 443]]\n",
      "              precision    recall  f1-score   support\n",
      "\n",
      "    Critical       1.00      0.83      0.91       573\n",
      "        High       0.96      0.96      0.96       486\n",
      "         Low       0.82      1.00      0.90       475\n",
      "      Medium       0.97      0.95      0.96       466\n",
      "\n",
      "    accuracy                           0.93      2000\n",
      "   macro avg       0.94      0.94      0.93      2000\n",
      "weighted avg       0.94      0.93      0.93      2000\n",
      "\n",
      "Accuracy: 93.20%\n",
      "\n"
     ]
    }
   ],
   "source": [
    "from sklearn.naive_bayes import MultinomialNB\n",
    "from sklearn.metrics import classification_report, confusion_matrix, accuracy_score\n",
    "\n",
    "# Train model\n",
    "nb_model = MultinomialNB()\n",
    "nb_model.fit(X_train, y_train)\n",
    "\n",
    "# Predict\n",
    "y_pred_nb = nb_model.predict(X_test)\n",
    "priority_accuracy = accuracy_score(y_test, y_pred_nb)\n",
    "\n",
    "# Evaluate\n",
    "print(\"Naive Bayes Results:\\n\")\n",
    "print(confusion_matrix(y_test, y_pred_nb))\n",
    "print(classification_report(y_test, y_pred_nb, target_names=label_encoder.classes_))\n",
    "print(f\"Accuracy: {priority_accuracy * 100:.2f}%\\n\")"
   ]
  },
  {
   "cell_type": "markdown",
   "id": "3aa705ca",
   "metadata": {},
   "source": [
    "## SVM Classification"
   ]
  },
  {
   "cell_type": "code",
   "execution_count": 19,
   "id": "fccf2a30",
   "metadata": {},
   "outputs": [
    {
     "name": "stdout",
     "output_type": "stream",
     "text": [
      "SVM Results:\n",
      "\n",
      "[[478  19  62  14]\n",
      " [  0 468  18   0]\n",
      " [  0   0 475   0]\n",
      " [  0   0  23 443]]\n",
      "              precision    recall  f1-score   support\n",
      "\n",
      "    Critical       1.00      0.83      0.91       573\n",
      "        High       0.96      0.96      0.96       486\n",
      "         Low       0.82      1.00      0.90       475\n",
      "      Medium       0.97      0.95      0.96       466\n",
      "\n",
      "    accuracy                           0.93      2000\n",
      "   macro avg       0.94      0.94      0.93      2000\n",
      "weighted avg       0.94      0.93      0.93      2000\n",
      "\n",
      "Accuracy : 93.20%\n",
      "\n"
     ]
    }
   ],
   "source": [
    "from sklearn.svm import LinearSVC\n",
    "from sklearn.metrics import accuracy_score\n",
    "\n",
    "# Train model\n",
    "svm_model = LinearSVC()\n",
    "svm_model.fit(X_train, y_train)\n",
    "\n",
    "# Predict\n",
    "y_pred_svm = svm_model.predict(X_test)\n",
    "priority_svm_accuracy = accuracy_score(y_test, y_pred_svm)\n",
    "\n",
    "# Evaluate\n",
    "print(\"SVM Results:\\n\")\n",
    "print(confusion_matrix(y_test, y_pred_svm))\n",
    "print(classification_report(y_test, y_pred_svm, target_names=label_encoder.classes_))\n",
    "print(f\"Accuracy : {priority_svm_accuracy * 100:.2f}%\\n\")"
   ]
  },
  {
   "cell_type": "markdown",
   "id": "f986dd3d",
   "metadata": {},
   "source": [
    "## Target Variable : Status\n",
    "\n",
    "#### We'll classify tasks based on a target variable. Assuming status is the target (To Do, In Progress, Done, Blocked)"
   ]
  },
  {
   "cell_type": "code",
   "execution_count": 20,
   "id": "5cae2771",
   "metadata": {},
   "outputs": [
    {
     "data": {
      "text/plain": [
       "array(['Completed', 'In Progress', 'To Do'], dtype=object)"
      ]
     },
     "execution_count": 20,
     "metadata": {},
     "output_type": "execute_result"
    }
   ],
   "source": [
    "status_label_encoder = LabelEncoder()\n",
    "df['status_encoded'] = status_label_encoder.fit_transform(df['status'])\n",
    "\n",
    "#view encoded class labels\n",
    "status_label_encoder.classes_"
   ]
  },
  {
   "cell_type": "code",
   "execution_count": 21,
   "id": "21a59433",
   "metadata": {},
   "outputs": [],
   "source": [
    "z = df['status_encoded']\n",
    "\n",
    "X_train, X_test, z_train, z_test = train_test_split(X, z, test_size=0.2, random_state=42)"
   ]
  },
  {
   "cell_type": "code",
   "execution_count": 22,
   "id": "1d9fb7fb",
   "metadata": {},
   "outputs": [
    {
     "data": {
      "text/plain": [
       "9254    2\n",
       "1561    0\n",
       "1670    0\n",
       "6087    1\n",
       "6669    1\n",
       "       ..\n",
       "5734    2\n",
       "5191    0\n",
       "5390    1\n",
       "860     0\n",
       "7270    0\n",
       "Name: status_encoded, Length: 8000, dtype: int32"
      ]
     },
     "execution_count": 22,
     "metadata": {},
     "output_type": "execute_result"
    }
   ],
   "source": [
    "z_train"
   ]
  },
  {
   "cell_type": "code",
   "execution_count": 23,
   "id": "184e0c62",
   "metadata": {},
   "outputs": [
    {
     "data": {
      "text/plain": [
       "6252    2\n",
       "4684    2\n",
       "1731    1\n",
       "4742    2\n",
       "4521    1\n",
       "       ..\n",
       "6412    0\n",
       "8285    1\n",
       "7853    2\n",
       "1095    2\n",
       "6929    2\n",
       "Name: status_encoded, Length: 2000, dtype: int32"
      ]
     },
     "execution_count": 23,
     "metadata": {},
     "output_type": "execute_result"
    }
   ],
   "source": [
    "z_test"
   ]
  },
  {
   "cell_type": "code",
   "execution_count": 24,
   "id": "fc420129",
   "metadata": {
    "scrolled": true
   },
   "outputs": [
    {
     "name": "stdout",
     "output_type": "stream",
     "text": [
      "Naive Bayes Results:\n",
      "\n",
      "[[ 66 462  98]\n",
      " [ 80 546 139]\n",
      " [ 58 436 115]]\n",
      "              precision    recall  f1-score   support\n",
      "\n",
      "   Completed       0.32      0.11      0.16       626\n",
      " In Progress       0.38      0.71      0.49       765\n",
      "       To Do       0.33      0.19      0.24       609\n",
      "\n",
      "    accuracy                           0.36      2000\n",
      "   macro avg       0.34      0.34      0.30      2000\n",
      "weighted avg       0.35      0.36      0.31      2000\n",
      "\n",
      "Accuracy : 36.35%\n",
      "\n"
     ]
    }
   ],
   "source": [
    "from sklearn.naive_bayes import MultinomialNB\n",
    "from sklearn.metrics import classification_report, confusion_matrix, accuracy_score\n",
    "\n",
    "# Train model\n",
    "nb_status_model = MultinomialNB()\n",
    "nb_status_model.fit(X_train, z_train)\n",
    "\n",
    "# Predict\n",
    "z_pred_nb = nb_status_model.predict(X_test)\n",
    "status_accuracy = accuracy_score(z_test, z_pred_nb)\n",
    "\n",
    "# Evaluate\n",
    "print(\"Naive Bayes Results:\\n\")\n",
    "print(confusion_matrix(z_test, z_pred_nb))\n",
    "print(classification_report(z_test, z_pred_nb, target_names=status_label_encoder.classes_))\n",
    "print(f\"Accuracy : {status_accuracy * 100:.2f}%\\n\")"
   ]
  },
  {
   "cell_type": "code",
   "execution_count": 25,
   "id": "d87c8455",
   "metadata": {},
   "outputs": [
    {
     "name": "stdout",
     "output_type": "stream",
     "text": [
      "SVM Results:\n",
      "\n",
      "[[ 35 545  46]\n",
      " [ 36 665  64]\n",
      " [ 27 531  51]]\n",
      "              precision    recall  f1-score   support\n",
      "\n",
      "   Completed       0.36      0.06      0.10       626\n",
      " In Progress       0.38      0.87      0.53       765\n",
      "       To Do       0.32      0.08      0.13       609\n",
      "\n",
      "    accuracy                           0.38      2000\n",
      "   macro avg       0.35      0.34      0.25      2000\n",
      "weighted avg       0.35      0.38      0.27      2000\n",
      "\n",
      "Accuracy : 37.55%\n",
      "\n"
     ]
    }
   ],
   "source": [
    "# SVM Classficiation\n",
    "\n",
    "from sklearn.svm import LinearSVC\n",
    "from sklearn.metrics import accuracy_score\n",
    "\n",
    "# Train model\n",
    "svm_status_model = LinearSVC()\n",
    "svm_status_model.fit(X_train, z_train)\n",
    "\n",
    "# Predict\n",
    "z_pred_svm = svm_status_model.predict(X_test)\n",
    "status_svm_accuracy = accuracy_score(z_test, z_pred_svm)\n",
    "\n",
    "# Evaluate\n",
    "print(\"SVM Results:\\n\")\n",
    "print(confusion_matrix(z_test, z_pred_svm))\n",
    "print(classification_report(z_test, z_pred_svm, target_names=status_label_encoder.classes_))\n",
    "print(f\"Accuracy : {status_svm_accuracy * 100:.2f}%\\n\")"
   ]
  },
  {
   "cell_type": "markdown",
   "id": "5ca67d5d",
   "metadata": {},
   "source": [
    "## Overall Results till now\n",
    "\n",
    "| Metrics  | Naive Bayes | SVM    | Target Variable |\n",
    "| -------- | ----------- | ------ | --------------- |\n",
    "| Accuracy | 93.20%      | 93.20% | Priority        |\n",
    "| Accuracy | 36.35%      | 37.55% | Status          |"
   ]
  }
 ],
 "metadata": {
  "kernelspec": {
   "display_name": "Python 3 (ipykernel)",
   "language": "python",
   "name": "python3"
  },
  "language_info": {
   "codemirror_mode": {
    "name": "ipython",
    "version": 3
   },
   "file_extension": ".py",
   "mimetype": "text/x-python",
   "name": "python",
   "nbconvert_exporter": "python",
   "pygments_lexer": "ipython3",
   "version": "3.11.4"
  }
 },
 "nbformat": 4,
 "nbformat_minor": 5
}
